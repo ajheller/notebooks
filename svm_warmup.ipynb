{
  "nbformat": 4,
  "nbformat_minor": 0,
  "metadata": {
    "colab": {
      "name": "svm_warmup.ipynb",
      "provenance": [],
      "collapsed_sections": [
        "pQ-T9J7FpnIr"
      ],
      "toc_visible": true,
      "authorship_tag": "ABX9TyNKqbDX3y/xjFzHJRvIaJh0",
      "include_colab_link": true
    },
    "kernelspec": {
      "name": "python3",
      "display_name": "Python 3"
    }
  },
  "cells": [
    {
      "cell_type": "markdown",
      "metadata": {
        "id": "view-in-github",
        "colab_type": "text"
      },
      "source": [
        "<a href=\"https://colab.research.google.com/github/ajheller/notebooks/blob/master/svm_warmup.ipynb\" target=\"_parent\"><img src=\"https://colab.research.google.com/assets/colab-badge.svg\" alt=\"Open In Colab\"/></a>"
      ]
    },
    {
      "cell_type": "markdown",
      "metadata": {
        "id": "pQ-T9J7FpnIr",
        "colab_type": "text"
      },
      "source": [
        "#Data Description"
      ]
    },
    {
      "cell_type": "markdown",
      "metadata": {
        "id": "IkH1Cwjjpihx",
        "colab_type": "text"
      },
      "source": [
        "Source: https://archive.ics.uci.edu/ml/datasets/Bar+Crawl%3A+Detecting+Heavy+Drinking#\n",
        "\n",
        "1. Database Description:\n",
        "\n",
        "(a) Title\n",
        "\n",
        "Bar Crawl: Detecting Heavy Drinking\n",
        "\n",
        "(b) Abstract\n",
        "\n",
        "Accelerometer and transdermal alcohol content data from a college bar crawl. Used to predict heavy drinking episodes via mobile data.\n",
        "\n",
        "2. Sources:\n",
        "   (a) Owner of database\n",
        "       Jackson A Killian (jkillian@g.harvard.edu, Harvard University); Danielle R Madden (University of Southern California); John Clapp (University of Southern California)\n",
        "   (b) Donor of database\n",
        "       Jackson A Killian (jkillian@g.harvard.edu, Harvard University); Danielle R Madden (University of Southern California); John Clapp (University of Southern California)\n",
        "   (c) Date collected\n",
        "       May 2017\n",
        "   (d) Date submitted\n",
        "       Jan 2020\n",
        "\n",
        "3. Past Usage:\n",
        "   (a) Complete reference of article where it was described/used: \n",
        "       \n",
        "Killian, J.A., Passino, K.M., Nandi, A., Madden, D.R. and Clapp, J., Learning to Detect Heavy Drinking Episodes Using Smartphone Accelerometer Data. In Proceedings of the 4th International Workshop on Knowledge Discovery in Healthcare Data co-located with the 28th International Joint Conference on Artificial Intelligence (IJCAI 2019) (pp. 35-42). http://ceur-ws.org/Vol-2429/paper6.pdf\n",
        "\n",
        "   (b) Indication of what attribute(s) were being predicted\n",
        "       \n",
        "Features: Three-axis time series accelerometer data\n",
        "       \n",
        "Target: Time series transdermal alcohol content (TAC) data (real-time measure of intoxication)\n",
        "\n",
        "   (c) Indication of study's results\n",
        "       \n",
        "The study decomposed each time series into 10 second windows and performed binary classification to predict if windows corresponded to an intoxicated participant (TAC >= 0.08) or sober participant (TAC < 0.08). The study tested several models and achieved a test accuracy of 77.5% with a random forest.\n",
        "\n",
        "4. Relevant Information:\n",
        "\n",
        "    All data is fully anonymized.\n",
        "\n",
        "Data was originally collected from 19 participants, but the TAC readings of 6 participants were deemed unusable by SCRAM [1]. The data included is from the remaining 13 participants.\n",
        "   \n",
        "Accelerometer data was collected from smartphones at a sampling rate of 40Hz (file: all_accelerometer_data_pids_13.csv). The file contains 5 columns: a timestamp, a participant ID, and a sample from each axis of the accelerometer. Data was collected from a mix of 11 iPhones and 2 Android phones as noted in phone_types.csv. TAC data was collected using SCRAM [2] ankle bracelets and was collected at 30 minute intervals. The raw TAC readings are in the raw_tac directory. TAC readings which are more readily usable for processing are in clean_tac directory and have two columns: a timestamp and TAC reading. The cleaned TAC readings: (1) were processed with a zero-phase low-pass filter to smooth noise without shifting phase; (2) were shifted backwards by 45 minutes so the labels more closely match the true intoxication of the participant (since alcohol takes about 45 minutes to exit through the skin.) Please see the above referenced study for more details on how the data was processed (http://ceur-ws.org/Vol-2429/paper6.pdf).\n",
        "\n",
        "    1 - https://www.scramsystems.com/\n",
        "    2 - J. Robert Zettl. The determination of blood alcohol concentration by transdermal measurement. https://www.scramsystems.com/images/uploads/general/research/the-determination-of-blood-alcohol-concentrationby-transdermal-measurement.pdf, 2002.\n",
        "\n",
        "5. Number of Instances:\n",
        "    Accelerometer readings: 14,057,567\n",
        "    TAC readings: 715\n",
        "    Participants: 13\n",
        "\n",
        "6. Number of Attributes:\n",
        "    - Time series: 3 axes of accelerometer data (columns x, y, z in all_accelerometer_data_pids_13.csv)\n",
        "    - Static: 1 phone-type feature (in phone_types.csv)\n",
        "    - Target: 1 time series of TAC for each of the 13 participants (in clean_tac directory).\n",
        "\n",
        "7. For Each Attribute:\n",
        "    (Main)\n",
        "    all_accelerometer_data_pids_13.csv:\n",
        "        time: integer, unix timestamp, milliseconds\n",
        "        pid: symbolic, 13 categories listed in pids.txt \n",
        "        x: continuous, time-series\n",
        "        y: continuous, time-series\n",
        "        z: continuous, time-series\n",
        "    clean_tac/*.csv:\n",
        "        timestamp: integer, unix timestamp, seconds\n",
        "        TAC_Reading: continuous, time-series\n",
        "    phone_type.csv:\n",
        "        pid: symbolic, 13 categories listed in pids.txt \n",
        "        phonetype: symbolic, 2 categories (iPhone, Android)\n",
        "    \n",
        "    (Other)\n",
        "    raw/*.xlsx:\n",
        "        TAC Level: continuous, time-series\n",
        "        IR Voltage: continuous, time-series\n",
        "        Temperature: continuous, time-series\n",
        "        Time: datetime\n",
        "        Date: datetime\n",
        "\n",
        "8. Missing Attribute Values:\n",
        "None\n",
        "\n",
        "9. Target Distribution:\n",
        "    TAC is measured in g/dl where 0.08 is the legal limit for intoxication while driving\n",
        "    Mean TAC: 0.065 +/- 0.182\n",
        "    Max TAC: 0.443\n",
        "    TAC Inner Quartiles: 0.002, 0.029, 0.092\n",
        "    Mean Time-to-last-drink: 16.1 +/- 6.9 hrs"
      ]
    },
    {
      "cell_type": "markdown",
      "metadata": {
        "id": "HZjn8RNjLUn4",
        "colab_type": "text"
      },
      "source": [
        "# Load the data"
      ]
    },
    {
      "cell_type": "markdown",
      "metadata": {
        "id": "4WY997C0p356",
        "colab_type": "text"
      },
      "source": [
        "## Phone Data\n"
      ]
    },
    {
      "cell_type": "code",
      "metadata": {
        "id": "kgCcumP5EGwT",
        "colab_type": "code",
        "colab": {
          "base_uri": "https://localhost:8080/",
          "height": 122
        },
        "outputId": "a9f7a6d9-be6e-462a-ed0d-7792958e2679"
      },
      "source": [
        "# import drive \n",
        "from google.colab import drive\n",
        "drive.mount('/content/drive')"
      ],
      "execution_count": 5,
      "outputs": [
        {
          "output_type": "stream",
          "text": [
            "Go to this URL in a browser: https://accounts.google.com/o/oauth2/auth?client_id=947318989803-6bn6qk8qdgf4n4g3pfee6491hc0brc4i.apps.googleusercontent.com&redirect_uri=urn%3aietf%3awg%3aoauth%3a2.0%3aoob&response_type=code&scope=email%20https%3a%2f%2fwww.googleapis.com%2fauth%2fdocs.test%20https%3a%2f%2fwww.googleapis.com%2fauth%2fdrive%20https%3a%2f%2fwww.googleapis.com%2fauth%2fdrive.photos.readonly%20https%3a%2f%2fwww.googleapis.com%2fauth%2fpeopleapi.readonly\n",
            "\n",
            "Enter your authorization code:\n",
            "··········\n",
            "Mounted at /content/drive\n"
          ],
          "name": "stdout"
        }
      ]
    },
    {
      "cell_type": "code",
      "metadata": {
        "id": "nYDGdz5djExt",
        "colab_type": "code",
        "colab": {}
      },
      "source": [
        "import pandas as pd\n",
        "import numpy as np\n",
        "import scipy as sp\n",
        "import scipy.linalg as la\n",
        "import matplotlib.pyplot as plt\n",
        "from scipy import interpolate\n",
        "from os import path\n",
        "\n",
        "# some utility functions\n",
        "import time\n",
        "class Timer:\n",
        "  def __init__(self, report=None):\n",
        "    self.report = report\n",
        "  def __enter__(self):\n",
        "    self.start = time.clock()\n",
        "    return self\n",
        "  def __exit__(self, *args):\n",
        "    self.end = time.clock()\n",
        "    self.interval = self.end - self.start\n",
        "    if self.report:\n",
        "      print(self.report % self.interval)\n",
        "\n",
        "def decode_ts(ts, unit='auto'):\n",
        "  if unit == 'auto':\n",
        "    unit = 'ms' if ts > 1e12 else 's'\n",
        "  return pd.to_datetime(ts, unit=unit)"
      ],
      "execution_count": 6,
      "outputs": []
    },
    {
      "cell_type": "code",
      "metadata": {
        "id": "VpqCC9S8Ggbc",
        "colab_type": "code",
        "colab": {
          "base_uri": "https://localhost:8080/",
          "height": 453
        },
        "outputId": "75c8665c-5a65-4f95-d33e-3ad1be158a5e"
      },
      "source": [
        "### INSERT YOUR PATH to data HERE: ###\n",
        "data_path = '/content/drive/My Drive/svm-warmup/data'\n",
        "\n",
        "phone_types = pd.read_csv(path.join(data_path, 'phone_types.csv'))\n",
        "\n",
        "with Timer(\"loaded in %d sec\\n\") as t:\n",
        "  acc = pd.read_csv(path.join(data_path, 'all_accelerometer_data_pids_13.csv'))\n",
        "\n",
        "# clean out bad rows\n",
        "#  see: https://stackoverflow.com/questions/13851535/delete-rows-from-a-pandas-dataframe-based-on-a-conditional-expression-involving\n",
        "acc.drop(acc[acc['time']==0].index, inplace=True)\n",
        "acc.reset_index(inplace=True, drop=True) \n",
        "acc"
      ],
      "execution_count": 7,
      "outputs": [
        {
          "output_type": "stream",
          "text": [
            "loaded in 8 sec\n",
            "\n"
          ],
          "name": "stdout"
        },
        {
          "output_type": "execute_result",
          "data": {
            "text/html": [
              "<div>\n",
              "<style scoped>\n",
              "    .dataframe tbody tr th:only-of-type {\n",
              "        vertical-align: middle;\n",
              "    }\n",
              "\n",
              "    .dataframe tbody tr th {\n",
              "        vertical-align: top;\n",
              "    }\n",
              "\n",
              "    .dataframe thead th {\n",
              "        text-align: right;\n",
              "    }\n",
              "</style>\n",
              "<table border=\"1\" class=\"dataframe\">\n",
              "  <thead>\n",
              "    <tr style=\"text-align: right;\">\n",
              "      <th></th>\n",
              "      <th>time</th>\n",
              "      <th>pid</th>\n",
              "      <th>x</th>\n",
              "      <th>y</th>\n",
              "      <th>z</th>\n",
              "    </tr>\n",
              "  </thead>\n",
              "  <tbody>\n",
              "    <tr>\n",
              "      <th>0</th>\n",
              "      <td>1493733882409</td>\n",
              "      <td>SA0297</td>\n",
              "      <td>0.075800</td>\n",
              "      <td>0.027300</td>\n",
              "      <td>-0.010200</td>\n",
              "    </tr>\n",
              "    <tr>\n",
              "      <th>1</th>\n",
              "      <td>1493733882455</td>\n",
              "      <td>SA0297</td>\n",
              "      <td>-0.035900</td>\n",
              "      <td>0.079400</td>\n",
              "      <td>0.003700</td>\n",
              "    </tr>\n",
              "    <tr>\n",
              "      <th>2</th>\n",
              "      <td>1493733882500</td>\n",
              "      <td>SA0297</td>\n",
              "      <td>-0.242700</td>\n",
              "      <td>-0.086100</td>\n",
              "      <td>-0.016300</td>\n",
              "    </tr>\n",
              "    <tr>\n",
              "      <th>3</th>\n",
              "      <td>1493733883945</td>\n",
              "      <td>SA0297</td>\n",
              "      <td>-0.288800</td>\n",
              "      <td>0.051400</td>\n",
              "      <td>-0.014500</td>\n",
              "    </tr>\n",
              "    <tr>\n",
              "      <th>4</th>\n",
              "      <td>1493733883953</td>\n",
              "      <td>SA0297</td>\n",
              "      <td>-0.041300</td>\n",
              "      <td>-0.018400</td>\n",
              "      <td>-0.010500</td>\n",
              "    </tr>\n",
              "    <tr>\n",
              "      <th>...</th>\n",
              "      <td>...</td>\n",
              "      <td>...</td>\n",
              "      <td>...</td>\n",
              "      <td>...</td>\n",
              "      <td>...</td>\n",
              "    </tr>\n",
              "    <tr>\n",
              "      <th>14057560</th>\n",
              "      <td>1493829248196</td>\n",
              "      <td>CC6740</td>\n",
              "      <td>-0.133956</td>\n",
              "      <td>0.124726</td>\n",
              "      <td>-0.010736</td>\n",
              "    </tr>\n",
              "    <tr>\n",
              "      <th>14057561</th>\n",
              "      <td>1493829248220</td>\n",
              "      <td>CC6740</td>\n",
              "      <td>-0.100764</td>\n",
              "      <td>0.180872</td>\n",
              "      <td>0.046449</td>\n",
              "    </tr>\n",
              "    <tr>\n",
              "      <th>14057562</th>\n",
              "      <td>1493829248245</td>\n",
              "      <td>CC6740</td>\n",
              "      <td>-0.131853</td>\n",
              "      <td>0.195934</td>\n",
              "      <td>0.181088</td>\n",
              "    </tr>\n",
              "    <tr>\n",
              "      <th>14057563</th>\n",
              "      <td>1493829248270</td>\n",
              "      <td>CC6740</td>\n",
              "      <td>-0.149704</td>\n",
              "      <td>0.194482</td>\n",
              "      <td>0.202393</td>\n",
              "    </tr>\n",
              "    <tr>\n",
              "      <th>14057564</th>\n",
              "      <td>1493829248294</td>\n",
              "      <td>CC6740</td>\n",
              "      <td>-0.107288</td>\n",
              "      <td>0.153548</td>\n",
              "      <td>0.168595</td>\n",
              "    </tr>\n",
              "  </tbody>\n",
              "</table>\n",
              "<p>14057565 rows × 5 columns</p>\n",
              "</div>"
            ],
            "text/plain": [
              "                   time     pid         x         y         z\n",
              "0         1493733882409  SA0297  0.075800  0.027300 -0.010200\n",
              "1         1493733882455  SA0297 -0.035900  0.079400  0.003700\n",
              "2         1493733882500  SA0297 -0.242700 -0.086100 -0.016300\n",
              "3         1493733883945  SA0297 -0.288800  0.051400 -0.014500\n",
              "4         1493733883953  SA0297 -0.041300 -0.018400 -0.010500\n",
              "...                 ...     ...       ...       ...       ...\n",
              "14057560  1493829248196  CC6740 -0.133956  0.124726 -0.010736\n",
              "14057561  1493829248220  CC6740 -0.100764  0.180872  0.046449\n",
              "14057562  1493829248245  CC6740 -0.131853  0.195934  0.181088\n",
              "14057563  1493829248270  CC6740 -0.149704  0.194482  0.202393\n",
              "14057564  1493829248294  CC6740 -0.107288  0.153548  0.168595\n",
              "\n",
              "[14057565 rows x 5 columns]"
            ]
          },
          "metadata": {
            "tags": []
          },
          "execution_count": 7
        }
      ]
    },
    {
      "cell_type": "code",
      "metadata": {
        "id": "IshQ6w9dJBCd",
        "colab_type": "code",
        "colab": {
          "base_uri": "https://localhost:8080/",
          "height": 390
        },
        "outputId": "f707bc7f-1a9b-4385-a1df-7985589e52fb"
      },
      "source": [
        "phone_types.groupby(by='phonetype').get_group('iPhone')"
      ],
      "execution_count": 16,
      "outputs": [
        {
          "output_type": "execute_result",
          "data": {
            "text/html": [
              "<div>\n",
              "<style scoped>\n",
              "    .dataframe tbody tr th:only-of-type {\n",
              "        vertical-align: middle;\n",
              "    }\n",
              "\n",
              "    .dataframe tbody tr th {\n",
              "        vertical-align: top;\n",
              "    }\n",
              "\n",
              "    .dataframe thead th {\n",
              "        text-align: right;\n",
              "    }\n",
              "</style>\n",
              "<table border=\"1\" class=\"dataframe\">\n",
              "  <thead>\n",
              "    <tr style=\"text-align: right;\">\n",
              "      <th></th>\n",
              "      <th>pid</th>\n",
              "      <th>phonetype</th>\n",
              "    </tr>\n",
              "  </thead>\n",
              "  <tbody>\n",
              "    <tr>\n",
              "      <th>0</th>\n",
              "      <td>BK7610</td>\n",
              "      <td>iPhone</td>\n",
              "    </tr>\n",
              "    <tr>\n",
              "      <th>1</th>\n",
              "      <td>BU4707</td>\n",
              "      <td>iPhone</td>\n",
              "    </tr>\n",
              "    <tr>\n",
              "      <th>3</th>\n",
              "      <td>DC6359</td>\n",
              "      <td>iPhone</td>\n",
              "    </tr>\n",
              "    <tr>\n",
              "      <th>4</th>\n",
              "      <td>DK3500</td>\n",
              "      <td>iPhone</td>\n",
              "    </tr>\n",
              "    <tr>\n",
              "      <th>5</th>\n",
              "      <td>HV0618</td>\n",
              "      <td>iPhone</td>\n",
              "    </tr>\n",
              "    <tr>\n",
              "      <th>7</th>\n",
              "      <td>JR8022</td>\n",
              "      <td>iPhone</td>\n",
              "    </tr>\n",
              "    <tr>\n",
              "      <th>8</th>\n",
              "      <td>MC7070</td>\n",
              "      <td>iPhone</td>\n",
              "    </tr>\n",
              "    <tr>\n",
              "      <th>9</th>\n",
              "      <td>MJ8002</td>\n",
              "      <td>iPhone</td>\n",
              "    </tr>\n",
              "    <tr>\n",
              "      <th>10</th>\n",
              "      <td>PC6771</td>\n",
              "      <td>iPhone</td>\n",
              "    </tr>\n",
              "    <tr>\n",
              "      <th>11</th>\n",
              "      <td>SA0297</td>\n",
              "      <td>iPhone</td>\n",
              "    </tr>\n",
              "    <tr>\n",
              "      <th>12</th>\n",
              "      <td>SF3079</td>\n",
              "      <td>iPhone</td>\n",
              "    </tr>\n",
              "  </tbody>\n",
              "</table>\n",
              "</div>"
            ],
            "text/plain": [
              "       pid phonetype\n",
              "0   BK7610    iPhone\n",
              "1   BU4707    iPhone\n",
              "3   DC6359    iPhone\n",
              "4   DK3500    iPhone\n",
              "5   HV0618    iPhone\n",
              "7   JR8022    iPhone\n",
              "8   MC7070    iPhone\n",
              "9   MJ8002    iPhone\n",
              "10  PC6771    iPhone\n",
              "11  SA0297    iPhone\n",
              "12  SF3079    iPhone"
            ]
          },
          "metadata": {
            "tags": []
          },
          "execution_count": 16
        }
      ]
    },
    {
      "cell_type": "code",
      "metadata": {
        "id": "NJ4D90PwLu4o",
        "colab_type": "code",
        "colab": {
          "base_uri": "https://localhost:8080/",
          "height": 68
        },
        "outputId": "68dae678-5b39-4db5-d73e-455cf347309b"
      },
      "source": [
        "pids=acc['pid'].unique()\n",
        "pids"
      ],
      "execution_count": 6,
      "outputs": [
        {
          "output_type": "execute_result",
          "data": {
            "text/plain": [
              "array(['SA0297', 'PC6771', 'BK7610', 'DC6359', 'MC7070', 'MJ8002',\n",
              "       'BU4707', 'JR8022', 'HV0618', 'SF3079', 'JB3156', 'CC6740',\n",
              "       'DK3500'], dtype=object)"
            ]
          },
          "metadata": {
            "tags": []
          },
          "execution_count": 6
        }
      ]
    },
    {
      "cell_type": "code",
      "metadata": {
        "id": "AhaD0nyHLzkk",
        "colab_type": "code",
        "colab": {}
      },
      "source": [
        "acc_by_pid=acc.groupby('pid')"
      ],
      "execution_count": 7,
      "outputs": []
    },
    {
      "cell_type": "code",
      "metadata": {
        "id": "nw349LUSe9Ee",
        "colab_type": "code",
        "colab": {
          "base_uri": "https://localhost:8080/",
          "height": 483
        },
        "outputId": "42035006-8fa6-4198-ed8a-5f38fadbf242"
      },
      "source": [
        "acc_by_pid.count()"
      ],
      "execution_count": 8,
      "outputs": [
        {
          "output_type": "execute_result",
          "data": {
            "text/html": [
              "<div>\n",
              "<style scoped>\n",
              "    .dataframe tbody tr th:only-of-type {\n",
              "        vertical-align: middle;\n",
              "    }\n",
              "\n",
              "    .dataframe tbody tr th {\n",
              "        vertical-align: top;\n",
              "    }\n",
              "\n",
              "    .dataframe thead th {\n",
              "        text-align: right;\n",
              "    }\n",
              "</style>\n",
              "<table border=\"1\" class=\"dataframe\">\n",
              "  <thead>\n",
              "    <tr style=\"text-align: right;\">\n",
              "      <th></th>\n",
              "      <th>time</th>\n",
              "      <th>x</th>\n",
              "      <th>y</th>\n",
              "      <th>z</th>\n",
              "    </tr>\n",
              "    <tr>\n",
              "      <th>pid</th>\n",
              "      <th></th>\n",
              "      <th></th>\n",
              "      <th></th>\n",
              "      <th></th>\n",
              "    </tr>\n",
              "  </thead>\n",
              "  <tbody>\n",
              "    <tr>\n",
              "      <th>BK7610</th>\n",
              "      <td>1225727</td>\n",
              "      <td>1225727</td>\n",
              "      <td>1225727</td>\n",
              "      <td>1225727</td>\n",
              "    </tr>\n",
              "    <tr>\n",
              "      <th>BU4707</th>\n",
              "      <td>447423</td>\n",
              "      <td>447423</td>\n",
              "      <td>447423</td>\n",
              "      <td>447423</td>\n",
              "    </tr>\n",
              "    <tr>\n",
              "      <th>CC6740</th>\n",
              "      <td>2374694</td>\n",
              "      <td>2374694</td>\n",
              "      <td>2374694</td>\n",
              "      <td>2374694</td>\n",
              "    </tr>\n",
              "    <tr>\n",
              "      <th>DC6359</th>\n",
              "      <td>591358</td>\n",
              "      <td>591358</td>\n",
              "      <td>591358</td>\n",
              "      <td>591358</td>\n",
              "    </tr>\n",
              "    <tr>\n",
              "      <th>DK3500</th>\n",
              "      <td>1339622</td>\n",
              "      <td>1339622</td>\n",
              "      <td>1339622</td>\n",
              "      <td>1339622</td>\n",
              "    </tr>\n",
              "    <tr>\n",
              "      <th>HV0618</th>\n",
              "      <td>1876013</td>\n",
              "      <td>1876013</td>\n",
              "      <td>1876013</td>\n",
              "      <td>1876013</td>\n",
              "    </tr>\n",
              "    <tr>\n",
              "      <th>JB3156</th>\n",
              "      <td>1177748</td>\n",
              "      <td>1177748</td>\n",
              "      <td>1177748</td>\n",
              "      <td>1177748</td>\n",
              "    </tr>\n",
              "    <tr>\n",
              "      <th>JR8022</th>\n",
              "      <td>307526</td>\n",
              "      <td>307526</td>\n",
              "      <td>307526</td>\n",
              "      <td>307526</td>\n",
              "    </tr>\n",
              "    <tr>\n",
              "      <th>MC7070</th>\n",
              "      <td>318600</td>\n",
              "      <td>318600</td>\n",
              "      <td>318600</td>\n",
              "      <td>318600</td>\n",
              "    </tr>\n",
              "    <tr>\n",
              "      <th>MJ8002</th>\n",
              "      <td>631303</td>\n",
              "      <td>631303</td>\n",
              "      <td>631303</td>\n",
              "      <td>631303</td>\n",
              "    </tr>\n",
              "    <tr>\n",
              "      <th>PC6771</th>\n",
              "      <td>2141701</td>\n",
              "      <td>2141701</td>\n",
              "      <td>2141701</td>\n",
              "      <td>2141701</td>\n",
              "    </tr>\n",
              "    <tr>\n",
              "      <th>SA0297</th>\n",
              "      <td>962901</td>\n",
              "      <td>962901</td>\n",
              "      <td>962901</td>\n",
              "      <td>962901</td>\n",
              "    </tr>\n",
              "    <tr>\n",
              "      <th>SF3079</th>\n",
              "      <td>662949</td>\n",
              "      <td>662949</td>\n",
              "      <td>662949</td>\n",
              "      <td>662949</td>\n",
              "    </tr>\n",
              "  </tbody>\n",
              "</table>\n",
              "</div>"
            ],
            "text/plain": [
              "           time        x        y        z\n",
              "pid                                       \n",
              "BK7610  1225727  1225727  1225727  1225727\n",
              "BU4707   447423   447423   447423   447423\n",
              "CC6740  2374694  2374694  2374694  2374694\n",
              "DC6359   591358   591358   591358   591358\n",
              "DK3500  1339622  1339622  1339622  1339622\n",
              "HV0618  1876013  1876013  1876013  1876013\n",
              "JB3156  1177748  1177748  1177748  1177748\n",
              "JR8022   307526   307526   307526   307526\n",
              "MC7070   318600   318600   318600   318600\n",
              "MJ8002   631303   631303   631303   631303\n",
              "PC6771  2141701  2141701  2141701  2141701\n",
              "SA0297   962901   962901   962901   962901\n",
              "SF3079   662949   662949   662949   662949"
            ]
          },
          "metadata": {
            "tags": []
          },
          "execution_count": 8
        }
      ]
    },
    {
      "cell_type": "code",
      "metadata": {
        "id": "Bx8x8xbUTgqT",
        "colab_type": "code",
        "colab": {
          "base_uri": "https://localhost:8080/",
          "height": 483
        },
        "outputId": "97248a41-17be-4a82-edc7-8bf878d65662"
      },
      "source": [
        "acc_by_pid.max()"
      ],
      "execution_count": 9,
      "outputs": [
        {
          "output_type": "execute_result",
          "data": {
            "text/html": [
              "<div>\n",
              "<style scoped>\n",
              "    .dataframe tbody tr th:only-of-type {\n",
              "        vertical-align: middle;\n",
              "    }\n",
              "\n",
              "    .dataframe tbody tr th {\n",
              "        vertical-align: top;\n",
              "    }\n",
              "\n",
              "    .dataframe thead th {\n",
              "        text-align: right;\n",
              "    }\n",
              "</style>\n",
              "<table border=\"1\" class=\"dataframe\">\n",
              "  <thead>\n",
              "    <tr style=\"text-align: right;\">\n",
              "      <th></th>\n",
              "      <th>time</th>\n",
              "      <th>x</th>\n",
              "      <th>y</th>\n",
              "      <th>z</th>\n",
              "    </tr>\n",
              "    <tr>\n",
              "      <th>pid</th>\n",
              "      <th></th>\n",
              "      <th></th>\n",
              "      <th></th>\n",
              "      <th></th>\n",
              "    </tr>\n",
              "  </thead>\n",
              "  <tbody>\n",
              "    <tr>\n",
              "      <th>BK7610</th>\n",
              "      <td>1493767770640</td>\n",
              "      <td>6.450300</td>\n",
              "      <td>5.344100</td>\n",
              "      <td>4.656500e+00</td>\n",
              "    </tr>\n",
              "    <tr>\n",
              "      <th>BU4707</th>\n",
              "      <td>1493757822097</td>\n",
              "      <td>6.298100</td>\n",
              "      <td>4.643600</td>\n",
              "      <td>4.830400e+00</td>\n",
              "    </tr>\n",
              "    <tr>\n",
              "      <th>CC6740</th>\n",
              "      <td>1493829248294</td>\n",
              "      <td>27.440683</td>\n",
              "      <td>27.311228</td>\n",
              "      <td>3.072708e+01</td>\n",
              "    </tr>\n",
              "    <tr>\n",
              "      <th>DC6359</th>\n",
              "      <td>1493769017080</td>\n",
              "      <td>5.658100</td>\n",
              "      <td>6.986400</td>\n",
              "      <td>5.703800e+00</td>\n",
              "    </tr>\n",
              "    <tr>\n",
              "      <th>DK3500</th>\n",
              "      <td>1493809885731</td>\n",
              "      <td>3.584000</td>\n",
              "      <td>5.286900</td>\n",
              "      <td>7.979200e+00</td>\n",
              "    </tr>\n",
              "    <tr>\n",
              "      <th>HV0618</th>\n",
              "      <td>1493825233785</td>\n",
              "      <td>4.046400</td>\n",
              "      <td>6.375600</td>\n",
              "      <td>4.258000e+00</td>\n",
              "    </tr>\n",
              "    <tr>\n",
              "      <th>JB3156</th>\n",
              "      <td>1493784075509</td>\n",
              "      <td>39.225403</td>\n",
              "      <td>21.285099</td>\n",
              "      <td>1.809008e+08</td>\n",
              "    </tr>\n",
              "    <tr>\n",
              "      <th>JR8022</th>\n",
              "      <td>1493772061028</td>\n",
              "      <td>6.181300</td>\n",
              "      <td>8.801400</td>\n",
              "      <td>7.031800e+00</td>\n",
              "    </tr>\n",
              "    <tr>\n",
              "      <th>MC7070</th>\n",
              "      <td>1493781545272</td>\n",
              "      <td>7.133000</td>\n",
              "      <td>7.439900</td>\n",
              "      <td>7.631500e+00</td>\n",
              "    </tr>\n",
              "    <tr>\n",
              "      <th>MJ8002</th>\n",
              "      <td>1493784951985</td>\n",
              "      <td>7.544300</td>\n",
              "      <td>8.370300</td>\n",
              "      <td>5.595300e+00</td>\n",
              "    </tr>\n",
              "    <tr>\n",
              "      <th>PC6771</th>\n",
              "      <td>1493821488372</td>\n",
              "      <td>7.022900</td>\n",
              "      <td>4.652900</td>\n",
              "      <td>4.674300e+00</td>\n",
              "    </tr>\n",
              "    <tr>\n",
              "      <th>SA0297</th>\n",
              "      <td>1493824735776</td>\n",
              "      <td>4.490900</td>\n",
              "      <td>3.443900</td>\n",
              "      <td>7.496700e+00</td>\n",
              "    </tr>\n",
              "    <tr>\n",
              "      <th>SF3079</th>\n",
              "      <td>1493790825495</td>\n",
              "      <td>7.070700</td>\n",
              "      <td>6.930700</td>\n",
              "      <td>5.567200e+00</td>\n",
              "    </tr>\n",
              "  </tbody>\n",
              "</table>\n",
              "</div>"
            ],
            "text/plain": [
              "                 time          x          y             z\n",
              "pid                                                      \n",
              "BK7610  1493767770640   6.450300   5.344100  4.656500e+00\n",
              "BU4707  1493757822097   6.298100   4.643600  4.830400e+00\n",
              "CC6740  1493829248294  27.440683  27.311228  3.072708e+01\n",
              "DC6359  1493769017080   5.658100   6.986400  5.703800e+00\n",
              "DK3500  1493809885731   3.584000   5.286900  7.979200e+00\n",
              "HV0618  1493825233785   4.046400   6.375600  4.258000e+00\n",
              "JB3156  1493784075509  39.225403  21.285099  1.809008e+08\n",
              "JR8022  1493772061028   6.181300   8.801400  7.031800e+00\n",
              "MC7070  1493781545272   7.133000   7.439900  7.631500e+00\n",
              "MJ8002  1493784951985   7.544300   8.370300  5.595300e+00\n",
              "PC6771  1493821488372   7.022900   4.652900  4.674300e+00\n",
              "SA0297  1493824735776   4.490900   3.443900  7.496700e+00\n",
              "SF3079  1493790825495   7.070700   6.930700  5.567200e+00"
            ]
          },
          "metadata": {
            "tags": []
          },
          "execution_count": 9
        }
      ]
    },
    {
      "cell_type": "code",
      "metadata": {
        "id": "fWTYFyiDXS_V",
        "colab_type": "code",
        "colab": {
          "base_uri": "https://localhost:8080/",
          "height": 238
        },
        "outputId": "674d121c-88cd-4b81-a1cf-f0fa392750cf"
      },
      "source": [
        "[(str(decode_ts(ts_min)), str(decode_ts(ts_max)))\n",
        "  for ts_min, ts_max in zip(acc_by_pid['time'].min(), acc_by_pid['time'].max())]"
      ],
      "execution_count": 10,
      "outputs": [
        {
          "output_type": "execute_result",
          "data": {
            "text/plain": [
              "[('2017-05-02 14:37:50.653000', '2017-05-02 23:29:30.640000'),\n",
              " ('2017-05-02 15:03:24.780000', '2017-05-02 20:43:42.097000'),\n",
              " ('2017-05-02 15:56:20.198000', '2017-05-03 16:34:08.294000'),\n",
              " ('2017-05-02 14:47:20.950000', '2017-05-02 23:50:17.080000'),\n",
              " ('2017-05-02 17:05:09.881000', '2017-05-03 11:11:25.731000'),\n",
              " ('2017-05-02 15:28:27.489000', '2017-05-03 15:27:13.785000'),\n",
              " ('2017-05-02 15:42:12.016000', '2017-05-03 04:01:15.509000'),\n",
              " ('2017-05-02 15:12:42.462000', '2017-05-03 00:41:01.028000'),\n",
              " ('2017-05-02 14:50:57.665000', '2017-05-03 03:19:05.272000'),\n",
              " ('2017-05-02 14:55:49.591000', '2017-05-03 04:15:51.985000'),\n",
              " ('2017-05-02 14:28:08.409000', '2017-05-03 14:24:48.372000'),\n",
              " ('2017-05-02 14:04:42.409000', '2017-05-03 15:18:55.776000'),\n",
              " ('2017-05-02 15:33:16.712000', '2017-05-03 05:53:45.495000')]"
            ]
          },
          "metadata": {
            "tags": []
          },
          "execution_count": 10
        }
      ]
    },
    {
      "cell_type": "markdown",
      "metadata": {
        "id": "3GjZvrVFPaGB",
        "colab_type": "text"
      },
      "source": [
        "## pick a subject"
      ]
    },
    {
      "cell_type": "code",
      "metadata": {
        "id": "bEILxUdNSErt",
        "colab_type": "code",
        "colab": {
          "base_uri": "https://localhost:8080/",
          "height": 68
        },
        "outputId": "5cb59d28-0e35-4b14-cf1e-2d574674d7f4"
      },
      "source": [
        "print(pids)\n",
        "subject = pids[3]\n",
        "subject"
      ],
      "execution_count": 11,
      "outputs": [
        {
          "output_type": "stream",
          "text": [
            "['SA0297' 'PC6771' 'BK7610' 'DC6359' 'MC7070' 'MJ8002' 'BU4707' 'JR8022'\n",
            " 'HV0618' 'SF3079' 'JB3156' 'CC6740' 'DK3500']\n"
          ],
          "name": "stdout"
        },
        {
          "output_type": "execute_result",
          "data": {
            "text/plain": [
              "'DC6359'"
            ]
          },
          "metadata": {
            "tags": []
          },
          "execution_count": 11
        }
      ]
    },
    {
      "cell_type": "code",
      "metadata": {
        "id": "VvJpAAzPNVr4",
        "colab_type": "code",
        "colab": {
          "base_uri": "https://localhost:8080/",
          "height": 419
        },
        "cellView": "both",
        "outputId": "33682cea-b324-44a2-9ed9-96b71589e048"
      },
      "source": [
        "# extract acc data for this subject\n",
        "a = acc[acc['pid']==subject][['x', 'y', 'z', 'time']]\n",
        "a"
      ],
      "execution_count": 12,
      "outputs": [
        {
          "output_type": "execute_result",
          "data": {
            "text/html": [
              "<div>\n",
              "<style scoped>\n",
              "    .dataframe tbody tr th:only-of-type {\n",
              "        vertical-align: middle;\n",
              "    }\n",
              "\n",
              "    .dataframe tbody tr th {\n",
              "        vertical-align: top;\n",
              "    }\n",
              "\n",
              "    .dataframe thead th {\n",
              "        text-align: right;\n",
              "    }\n",
              "</style>\n",
              "<table border=\"1\" class=\"dataframe\">\n",
              "  <thead>\n",
              "    <tr style=\"text-align: right;\">\n",
              "      <th></th>\n",
              "      <th>x</th>\n",
              "      <th>y</th>\n",
              "      <th>z</th>\n",
              "      <th>time</th>\n",
              "    </tr>\n",
              "  </thead>\n",
              "  <tbody>\n",
              "    <tr>\n",
              "      <th>88314</th>\n",
              "      <td>0.0003</td>\n",
              "      <td>-0.0001</td>\n",
              "      <td>0.0038</td>\n",
              "      <td>1493736440950</td>\n",
              "    </tr>\n",
              "    <tr>\n",
              "      <th>88317</th>\n",
              "      <td>0.0045</td>\n",
              "      <td>-0.0085</td>\n",
              "      <td>-0.0069</td>\n",
              "      <td>1493736440969</td>\n",
              "    </tr>\n",
              "    <tr>\n",
              "      <th>88320</th>\n",
              "      <td>0.0054</td>\n",
              "      <td>0.0149</td>\n",
              "      <td>0.0135</td>\n",
              "      <td>1493736441001</td>\n",
              "    </tr>\n",
              "    <tr>\n",
              "      <th>88323</th>\n",
              "      <td>0.0142</td>\n",
              "      <td>0.0195</td>\n",
              "      <td>0.0159</td>\n",
              "      <td>1493736441023</td>\n",
              "    </tr>\n",
              "    <tr>\n",
              "      <th>88326</th>\n",
              "      <td>0.0439</td>\n",
              "      <td>0.0052</td>\n",
              "      <td>0.0101</td>\n",
              "      <td>1493736441054</td>\n",
              "    </tr>\n",
              "    <tr>\n",
              "      <th>...</th>\n",
              "      <td>...</td>\n",
              "      <td>...</td>\n",
              "      <td>...</td>\n",
              "      <td>...</td>\n",
              "    </tr>\n",
              "    <tr>\n",
              "      <th>6225317</th>\n",
              "      <td>0.1615</td>\n",
              "      <td>-0.0567</td>\n",
              "      <td>0.1881</td>\n",
              "      <td>1493769016969</td>\n",
              "    </tr>\n",
              "    <tr>\n",
              "      <th>6225319</th>\n",
              "      <td>0.2266</td>\n",
              "      <td>-0.0574</td>\n",
              "      <td>0.1966</td>\n",
              "      <td>1493769017001</td>\n",
              "    </tr>\n",
              "    <tr>\n",
              "      <th>6225323</th>\n",
              "      <td>0.8460</td>\n",
              "      <td>-0.1478</td>\n",
              "      <td>0.2819</td>\n",
              "      <td>1493769017033</td>\n",
              "    </tr>\n",
              "    <tr>\n",
              "      <th>6225326</th>\n",
              "      <td>2.6394</td>\n",
              "      <td>-0.1841</td>\n",
              "      <td>-0.7624</td>\n",
              "      <td>1493769017059</td>\n",
              "    </tr>\n",
              "    <tr>\n",
              "      <th>6225328</th>\n",
              "      <td>2.1462</td>\n",
              "      <td>-0.7565</td>\n",
              "      <td>-0.5948</td>\n",
              "      <td>1493769017080</td>\n",
              "    </tr>\n",
              "  </tbody>\n",
              "</table>\n",
              "<p>591358 rows × 4 columns</p>\n",
              "</div>"
            ],
            "text/plain": [
              "              x       y       z           time\n",
              "88314    0.0003 -0.0001  0.0038  1493736440950\n",
              "88317    0.0045 -0.0085 -0.0069  1493736440969\n",
              "88320    0.0054  0.0149  0.0135  1493736441001\n",
              "88323    0.0142  0.0195  0.0159  1493736441023\n",
              "88326    0.0439  0.0052  0.0101  1493736441054\n",
              "...         ...     ...     ...            ...\n",
              "6225317  0.1615 -0.0567  0.1881  1493769016969\n",
              "6225319  0.2266 -0.0574  0.1966  1493769017001\n",
              "6225323  0.8460 -0.1478  0.2819  1493769017033\n",
              "6225326  2.6394 -0.1841 -0.7624  1493769017059\n",
              "6225328  2.1462 -0.7565 -0.5948  1493769017080\n",
              "\n",
              "[591358 rows x 4 columns]"
            ]
          },
          "metadata": {
            "tags": []
          },
          "execution_count": 12
        }
      ]
    },
    {
      "cell_type": "code",
      "metadata": {
        "id": "PyBHf_BVIyzn",
        "colab_type": "code",
        "colab": {
          "base_uri": "https://localhost:8080/",
          "height": 34
        },
        "outputId": "e49a374f-b891-40d4-a5e7-35b3ae8eedb6"
      },
      "source": [
        "a['z'].max()"
      ],
      "execution_count": 13,
      "outputs": [
        {
          "output_type": "execute_result",
          "data": {
            "text/plain": [
              "5.7038"
            ]
          },
          "metadata": {
            "tags": []
          },
          "execution_count": 13
        }
      ]
    },
    {
      "cell_type": "markdown",
      "metadata": {
        "id": "U44i6M2lPeMH",
        "colab_type": "text"
      },
      "source": [
        "## plot 3-axis accellerometer data"
      ]
    },
    {
      "cell_type": "code",
      "metadata": {
        "id": "VSlogQ8-G2RE",
        "colab_type": "code",
        "colab": {
          "base_uri": "https://localhost:8080/",
          "height": 265
        },
        "outputId": "fd357d1e-6846-415d-a357-cf4e3164e598"
      },
      "source": [
        "for off, axis in enumerate(['x', 'y', 'z']):\n",
        "  plt.plot(off*10+a[axis].values)"
      ],
      "execution_count": 14,
      "outputs": [
        {
          "output_type": "display_data",
          "data": {
            "image/png": "[encoded data removed]",
            "text/plain": [
              "<Figure size 432x288 with 1 Axes>"
            ]
          },
          "metadata": {
            "tags": [],
            "needs_background": "light"
          }
        }
      ]
    },
    {
      "cell_type": "code",
      "metadata": {
        "id": "r620mzkmOJmv",
        "colab_type": "code",
        "colab": {
          "base_uri": "https://localhost:8080/",
          "height": 265
        },
        "outputId": "b1f309fd-f4dc-49e7-c1e5-4b017dde57da"
      },
      "source": [
        "mag = la.norm(a[['x','y','z']].values, ord=2, axis=1)\n",
        "t = a['time'].values\n",
        "t_hr = t.astype(np.float64) / 1000 / 3600\n",
        "plt.plot(t_hr - t_hr[0], mag)\n",
        "plt.show()"
      ],
      "execution_count": 15,
      "outputs": [
        {
          "output_type": "display_data",
          "data": {
            "image/png": "[encoded data removed]",
            "text/plain": [
              "<Figure size 432x288 with 1 Axes>"
            ]
          },
          "metadata": {
            "tags": [],
            "needs_background": "light"
          }
        }
      ]
    },
    {
      "cell_type": "markdown",
      "metadata": {
        "id": "9dRorLztm0Ly",
        "colab_type": "text"
      },
      "source": [
        "## Load \"Clean\" TAC data"
      ]
    },
    {
      "cell_type": "code",
      "metadata": {
        "id": "-HaRhk1hktNf",
        "colab_type": "code",
        "colab": {}
      },
      "source": [
        "tac_path = '/content/drive/My Drive/svm-warmup/data/clean_tac/' + subject + '_clean_TAC.csv'"
      ],
      "execution_count": 16,
      "outputs": []
    },
    {
      "cell_type": "code",
      "metadata": {
        "id": "qhV41dXNPxT1",
        "colab_type": "code",
        "colab": {}
      },
      "source": [
        "tac = pd.read_csv(tac_path)"
      ],
      "execution_count": 17,
      "outputs": []
    },
    {
      "cell_type": "code",
      "metadata": {
        "id": "eEuW9POjlaeq",
        "colab_type": "code",
        "colab": {
          "base_uri": "https://localhost:8080/",
          "height": 282
        },
        "outputId": "47ea5109-0098-4d5f-a791-d2ac77fa0bbf"
      },
      "source": [
        "plt.plot((tac['timestamp']-t[0]/1000)/3600, tac['TAC_Reading'])\n",
        "plt.xlabel('hours')\n",
        "plt.ylabel('% BAC')\n",
        "plt.axhline(0.08, ls=':', color='r')\n",
        "plt.show()"
      ],
      "execution_count": 18,
      "outputs": [
        {
          "output_type": "display_data",
          "data": {
            "image/png": "[encoded data removed]",
            "text/plain": [
              "<Figure size 432x288 with 1 Axes>"
            ]
          },
          "metadata": {
            "tags": [],
            "needs_background": "light"
          }
        }
      ]
    },
    {
      "cell_type": "code",
      "metadata": {
        "id": "4lXgvuAxl-Tg",
        "colab_type": "code",
        "colab": {
          "base_uri": "https://localhost:8080/",
          "height": 68
        },
        "outputId": "334d00c5-007a-4b3f-e95a-877d6fcaf735"
      },
      "source": [
        "decode_ts(t[0]), decode_ts(tac['timestamp'].min()), decode_ts(tac['timestamp'].max())"
      ],
      "execution_count": 19,
      "outputs": [
        {
          "output_type": "execute_result",
          "data": {
            "text/plain": [
              "(Timestamp('2017-05-02 14:47:20.950000'),\n",
              " Timestamp('2017-05-02 10:00:24'),\n",
              " Timestamp('2017-05-03 09:20:48'))"
            ]
          },
          "metadata": {
            "tags": []
          },
          "execution_count": 19
        }
      ]
    },
    {
      "cell_type": "markdown",
      "metadata": {
        "id": "3JMO6wqn1x5k",
        "colab_type": "text"
      },
      "source": [
        "## Interpolate BAC and acellerometer readings and plot"
      ]
    },
    {
      "cell_type": "code",
      "metadata": {
        "id": "-dfWPp5zuqow",
        "colab_type": "code",
        "colab": {}
      },
      "source": [
        "# make a 1-D interpolator function\n",
        "#  bounds_error=False --> return NaNs for x values outside of range\n",
        "#  TAC data is in seconds, ACC data is in ms\n",
        "\n",
        "bac = interpolate.interp1d(1000*tac['timestamp'], tac['TAC_Reading'],\n",
        "                           bounds_error=False)\n",
        "\n",
        "# values to be plotted \n",
        "#  -- separate cell so we can tinker with the plot w/o recalculating\n",
        "b = bac(t)\n",
        "b_valid = ~ np.isnan(b)\n",
        "\n",
        "mag = la.norm(a[['x','y','z']].values, axis=1)\n",
        "t = a['time'].values\n",
        "t_hr = t.astype(np.float64) / 1000 / 3600\n"
      ],
      "execution_count": 28,
      "outputs": []
    },
    {
      "cell_type": "code",
      "metadata": {
        "id": "4knT6NKTW63l",
        "colab_type": "code",
        "colab": {
          "base_uri": "https://localhost:8080/",
          "height": 313
        },
        "outputId": "68ca6f61-5609-452f-db9f-a865293e0380"
      },
      "source": [
        "# from https://matplotlib.org/gallery/api/two_scales.html\n",
        "fig, ax1 = plt.subplots()\n",
        "\n",
        "color = 'tab:red'\n",
        "ax1.set_xlabel(\"hrs since \" + str(decode_ts(t[0])))\n",
        "ax1.set_ylabel('% BAC', color=color)\n",
        "ax1.plot((t_hr - t_hr[0])[b_valid], b[b_valid], color=color)\n",
        "plt.axhline(0.08, ls=':', color='r')\n",
        "ax1.tick_params(axis='y', labelcolor=color)\n",
        "\n",
        "ax2 = ax1.twinx()  # instantiate a second axes that shares the same x-axis\n",
        "\n",
        "color = 'tab:blue'\n",
        "ax2.set_ylabel(\"Magnitude of 3-axis accelerometer\", color=color)  # we already handled the x-label with ax1\n",
        "ax2.plot((t_hr - t_hr[0])[b_valid], mag[b_valid], color=color)\n",
        "ax2.tick_params(axis='y', labelcolor=color)\n",
        "\n",
        "fig.tight_layout()  # otherwise the right y-label is slightly clipped\n",
        "\n",
        "plt.title('Subject: ' + subject)\n",
        "plt.show()"
      ],
      "execution_count": 26,
      "outputs": [
        {
          "output_type": "display_data",
          "data": {
            "image/png": "[encoded data removed]",
            "text/plain": [
              "<Figure size 432x288 with 2 Axes>"
            ]
          },
          "metadata": {
            "tags": [],
            "needs_background": "light"
          }
        }
      ]
    }
  ]
}